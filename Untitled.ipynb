{
 "cells": [
  {
   "cell_type": "code",
   "execution_count": 22,
   "id": "58e1ce79",
   "metadata": {},
   "outputs": [
    {
     "name": "stdout",
     "output_type": "stream",
     "text": [
      "MoviePy - Building file maral.gif with imageio.\n"
     ]
    },
    {
     "name": "stderr",
     "output_type": "stream",
     "text": [
      "                                                                                \r"
     ]
    }
   ],
   "source": [
    "import numpy as np\n",
    "import gizeh as gz\n",
    "import moviepy.editor as mpy\n",
    "%matplotlib inline\n",
    "\n",
    "\n",
    "W,H = 800, 150\n",
    "D = 2 # duration in seconds\n",
    "r = 30 # size of the letters / pentagons\n",
    "\n",
    "gradient= gz.ColorGradient(\"linear\",((0,(0,.5,1)),(1,(0,1,1))),\n",
    "                           xy1=(0,-r), xy2=(0,r))\n",
    "polygon = gz.circle(r,  stroke_width=3, fill=(1,1,1))\n",
    "\n",
    "def make_frame(t):\n",
    "    surface = gz.Surface(W,H, bg_color=(1,1,1))\n",
    "    for i, letter in enumerate(\"MARAL CODES\"):\n",
    "        angle = max(0,min(1,2*t/D-1.0*i/5))*2*np.pi\n",
    "        txt = gz.text(letter, \"Roboto\", 3*r/2, fontweight='bold')\n",
    "        group = (gz.Group([polygon, txt])\n",
    "                 .rotate(angle)\n",
    "                 .translate((W*(i+1)/6,H/2)))\n",
    "        group.draw(surface)\n",
    "    return surface.get_npimage()\n",
    "\n",
    "clip = mpy.VideoClip(make_frame, duration=D)\n",
    "clip.write_gif(\"maral.gif\",fps=20, opt=\"OptimizePlus\")"
   ]
  },
  {
   "cell_type": "code",
   "execution_count": 2,
   "id": "fc37c1e4",
   "metadata": {},
   "outputs": [
    {
     "name": "stdout",
     "output_type": "stream",
     "text": [
      "Collecting moviepy\n",
      "  Downloading moviepy-1.0.3.tar.gz (388 kB)\n",
      "\u001b[2K     \u001b[90m━━━━━━━━━━━━━━━━━━━━━━━━━━━━━━━━━━━━━━━\u001b[0m \u001b[32m388.3/388.3 kB\u001b[0m \u001b[31m2.8 MB/s\u001b[0m eta \u001b[36m0:00:00\u001b[0m00:01\u001b[0m00:01\u001b[0m\n",
      "\u001b[?25h  Preparing metadata (setup.py) ... \u001b[?25ldone\n",
      "\u001b[?25hCollecting decorator<5.0,>=4.0.2\n",
      "  Downloading decorator-4.4.2-py2.py3-none-any.whl (9.2 kB)\n",
      "Collecting tqdm<5.0,>=4.11.2\n",
      "  Downloading tqdm-4.64.0-py2.py3-none-any.whl (78 kB)\n",
      "\u001b[2K     \u001b[90m━━━━━━━━━━━━━━━━━━━━━━━━━━━━━━━━━━━━━━━━\u001b[0m \u001b[32m78.4/78.4 kB\u001b[0m \u001b[31m2.1 MB/s\u001b[0m eta \u001b[36m0:00:00\u001b[0m\n",
      "\u001b[?25hCollecting requests<3.0,>=2.8.1\n",
      "  Downloading requests-2.28.1-py3-none-any.whl (62 kB)\n",
      "\u001b[2K     \u001b[90m━━━━━━━━━━━━━━━━━━━━━━━━━━━━━━━━━━━━━━━━\u001b[0m \u001b[32m62.8/62.8 kB\u001b[0m \u001b[31m1.6 MB/s\u001b[0m eta \u001b[36m0:00:00\u001b[0m\n",
      "\u001b[?25hCollecting proglog<=1.0.0\n",
      "  Downloading proglog-0.1.10-py3-none-any.whl (6.1 kB)\n",
      "Requirement already satisfied: numpy>=1.17.3 in ./env/lib/python3.9/site-packages (from moviepy) (1.22.3)\n",
      "Collecting imageio<3.0,>=2.5\n",
      "  Downloading imageio-2.21.1-py3-none-any.whl (3.4 MB)\n",
      "\u001b[2K     \u001b[90m━━━━━━━━━━━━━━━━━━━━━━━━━━━━━━━━━━━━━━━━\u001b[0m \u001b[32m3.4/3.4 MB\u001b[0m \u001b[31m5.8 MB/s\u001b[0m eta \u001b[36m0:00:00\u001b[0m00:01\u001b[0m00:01\u001b[0m\n",
      "\u001b[?25hCollecting imageio_ffmpeg>=0.2.0\n",
      "  Downloading imageio_ffmpeg-0.4.7-py3-none-macosx_10_9_intel.macosx_10_9_x86_64.macosx_10_10_intel.macosx_10_10_x86_64.whl (22.5 MB)\n",
      "\u001b[2K     \u001b[90m━━━━━━━━━━━━━━━━━━━━━━━━━━━━━━━━━━━━━━━━\u001b[0m \u001b[32m22.5/22.5 MB\u001b[0m \u001b[31m5.9 MB/s\u001b[0m eta \u001b[36m0:00:00\u001b[0m00:01\u001b[0m00:01\u001b[0m\n",
      "\u001b[?25hRequirement already satisfied: pillow>=8.3.2 in ./env/lib/python3.9/site-packages (from imageio<3.0,>=2.5->moviepy) (9.2.0)\n",
      "Collecting charset-normalizer<3,>=2\n",
      "  Downloading charset_normalizer-2.1.0-py3-none-any.whl (39 kB)\n",
      "Collecting idna<4,>=2.5\n",
      "  Downloading idna-3.3-py3-none-any.whl (61 kB)\n",
      "\u001b[2K     \u001b[90m━━━━━━━━━━━━━━━━━━━━━━━━━━━━━━━━━━━━━━━━\u001b[0m \u001b[32m61.2/61.2 kB\u001b[0m \u001b[31m1.8 MB/s\u001b[0m eta \u001b[36m0:00:00\u001b[0m\n",
      "\u001b[?25hRequirement already satisfied: certifi>=2017.4.17 in ./env/lib/python3.9/site-packages (from requests<3.0,>=2.8.1->moviepy) (2022.6.15)\n",
      "Collecting urllib3<1.27,>=1.21.1\n",
      "  Downloading urllib3-1.26.11-py2.py3-none-any.whl (139 kB)\n",
      "\u001b[2K     \u001b[90m━━━━━━━━━━━━━━━━━━━━━━━━━━━━━━━━━━━━━━━\u001b[0m \u001b[32m139.9/139.9 kB\u001b[0m \u001b[31m2.9 MB/s\u001b[0m eta \u001b[36m0:00:00\u001b[0ma \u001b[36m0:00:01\u001b[0m\n",
      "\u001b[?25hBuilding wheels for collected packages: moviepy\n",
      "  Building wheel for moviepy (setup.py) ... \u001b[?25ldone\n",
      "\u001b[?25h  Created wheel for moviepy: filename=moviepy-1.0.3-py3-none-any.whl size=110743 sha256=90ad2409c2ac293a0a75b99c1d6e6d2d2c1995340e22917eeca8e11de8eaecb6\n",
      "  Stored in directory: /Users/maralsheikhzadeh/Library/Caches/pip/wheels/29/15/e4/4f790bec6acd51a00b67e8ee1394f0bc6e0135c315f8ff399a\n",
      "Successfully built moviepy\n",
      "Installing collected packages: urllib3, tqdm, imageio_ffmpeg, imageio, idna, decorator, charset-normalizer, requests, proglog, moviepy\n",
      "  Attempting uninstall: decorator\n",
      "    Found existing installation: decorator 5.1.1\n",
      "    Uninstalling decorator-5.1.1:\n",
      "      Successfully uninstalled decorator-5.1.1\n",
      "Successfully installed charset-normalizer-2.1.0 decorator-4.4.2 idna-3.3 imageio-2.21.1 imageio_ffmpeg-0.4.7 moviepy-1.0.3 proglog-0.1.10 requests-2.28.1 tqdm-4.64.0 urllib3-1.26.11\n",
      "Collecting gizeh\n",
      "  Downloading gizeh-0.1.11.tar.gz (17 kB)\n",
      "  Preparing metadata (setup.py) ... \u001b[?25ldone\n",
      "\u001b[?25hCollecting cairocffi\n",
      "  Downloading cairocffi-1.3.0.tar.gz (88 kB)\n",
      "\u001b[2K     \u001b[90m━━━━━━━━━━━━━━━━━━━━━━━━━━━━━━━━━━━━━━━━\u001b[0m \u001b[32m88.8/88.8 kB\u001b[0m \u001b[31m1.1 MB/s\u001b[0m eta \u001b[36m0:00:00\u001b[0mta \u001b[36m0:00:01\u001b[0m\n",
      "\u001b[?25h  Preparing metadata (setup.py) ... \u001b[?25ldone\n",
      "\u001b[?25hRequirement already satisfied: numpy in ./env/lib/python3.9/site-packages (from gizeh) (1.22.3)\n",
      "Requirement already satisfied: cffi>=1.1.0 in ./env/lib/python3.9/site-packages (from cairocffi->gizeh) (1.15.0)\n",
      "Requirement already satisfied: pycparser in ./env/lib/python3.9/site-packages (from cffi>=1.1.0->cairocffi->gizeh) (2.21)\n",
      "Building wheels for collected packages: gizeh, cairocffi\n",
      "  Building wheel for gizeh (setup.py) ... \u001b[?25ldone\n",
      "\u001b[?25h  Created wheel for gizeh: filename=gizeh-0.1.11-py3-none-any.whl size=12610 sha256=ce391e681d9a424d72686ea675fe4f4e8d965fdf10567dda2d2120f12d20d6fd\n",
      "  Stored in directory: /Users/maralsheikhzadeh/Library/Caches/pip/wheels/a9/8c/bd/12007f0fdee0f01d1a8d7a830e8f5065fd71371f10663f1fa5\n",
      "  Building wheel for cairocffi (setup.py) ... \u001b[?25ldone\n",
      "\u001b[?25h  Created wheel for cairocffi: filename=cairocffi-1.3.0-py3-none-any.whl size=89668 sha256=a138902463e9a2d774f66056c360b5556872430905528c6f374e9b217a7896ca\n",
      "  Stored in directory: /Users/maralsheikhzadeh/Library/Caches/pip/wheels/78/ad/a6/032d6c6f721cd8a233c3d45beed982f84afa852dd481a9fd50\n",
      "Successfully built gizeh cairocffi\n",
      "Installing collected packages: cairocffi, gizeh\n",
      "Successfully installed cairocffi-1.3.0 gizeh-0.1.11\n"
     ]
    }
   ],
   "source": [
    "!pip install moviepy\n",
    "!pip install gizeh"
   ]
  },
  {
   "cell_type": "code",
   "execution_count": null,
   "id": "e5ab3ab9",
   "metadata": {},
   "outputs": [],
   "source": []
  }
 ],
 "metadata": {
  "kernelspec": {
   "display_name": "Python 3 (ipykernel)",
   "language": "python",
   "name": "python3"
  },
  "language_info": {
   "codemirror_mode": {
    "name": "ipython",
    "version": 3
   },
   "file_extension": ".py",
   "mimetype": "text/x-python",
   "name": "python",
   "nbconvert_exporter": "python",
   "pygments_lexer": "ipython3",
   "version": "3.9.12"
  }
 },
 "nbformat": 4,
 "nbformat_minor": 5
}
